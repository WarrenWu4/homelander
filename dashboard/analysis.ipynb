{
 "cells": [
  {
   "cell_type": "code",
   "execution_count": 60,
   "metadata": {},
   "outputs": [],
   "source": [
    "import pandas as pd\n",
    "import numpy as np"
   ]
  },
  {
   "cell_type": "code",
   "execution_count": 61,
   "metadata": {},
   "outputs": [
    {
     "name": "stderr",
     "output_type": "stream",
     "text": [
      "/tmp/ipykernel_63422/2486453810.py:2: DtypeWarning: Columns (19) have mixed types. Specify dtype option on import or set low_memory=False.\n",
      "  customer_df = pd.read_csv(\"data/current_customers.csv\")\n"
     ]
    }
   ],
   "source": [
    "# read in data\n",
    "customer_df = pd.read_csv(\"data/current_customers.csv\")\n",
    "# network_df = pd.read_csv(\"data/example_networks.csv\")"
   ]
  },
  {
   "cell_type": "code",
   "execution_count": 62,
   "metadata": {},
   "outputs": [
    {
     "name": "stdout",
     "output_type": "stream",
     "text": [
      "acct_id                        object\n",
      "extenders                       int64\n",
      "wireless_clients_count          int64\n",
      "wired_clients_count             int64\n",
      "rx_avg_bps                    float64\n",
      "tx_avg_bps                    float64\n",
      "rx_p95_bps                    float64\n",
      "tx_p95_bps                    float64\n",
      "rx_max_bps                    float64\n",
      "tx_max_bps                    float64\n",
      "rssi_mean                     float64\n",
      "rssi_median                     int64\n",
      "rssi_max                        int64\n",
      "rssi_min                        int64\n",
      "network_speed                  object\n",
      "city                           object\n",
      "state                          object\n",
      "whole_home_wifi                object\n",
      "wifi_security                  object\n",
      "wifi_security_plus             object\n",
      "premium_tech_pro               object\n",
      "identity_protection            object\n",
      "family_identity_protection     object\n",
      "total_shield                   object\n",
      "youtube_tv                     object\n",
      "dtype: object\n",
      "Index(['acct_id', 'extenders', 'wireless_clients_count', 'wired_clients_count',\n",
      "       'rx_avg_bps', 'tx_avg_bps', 'rx_p95_bps', 'tx_p95_bps', 'rx_max_bps',\n",
      "       'tx_max_bps', 'rssi_mean', 'rssi_median', 'rssi_max', 'rssi_min',\n",
      "       'network_speed', 'city', 'state', 'whole_home_wifi', 'wifi_security',\n",
      "       'wifi_security_plus', 'premium_tech_pro', 'identity_protection',\n",
      "       'family_identity_protection', 'total_shield', 'youtube_tv'],\n",
      "      dtype='object')\n"
     ]
    }
   ],
   "source": [
    "# get type of columns and column names\n",
    "print(customer_df.dtypes)\n",
    "print(customer_df.columns)"
   ]
  },
  {
   "cell_type": "code",
   "execution_count": 77,
   "metadata": {},
   "outputs": [
    {
     "name": "stdout",
     "output_type": "stream",
     "text": [
      "   extenders  wireless_clients_count  wired_clients_count    rx_avg_bps  \\\n",
      "0    0.72163               12.016019             4.111797  489285.28892   \n",
      "\n",
      "      tx_avg_bps    rx_p95_bps     tx_p95_bps    rx_max_bps    tx_max_bps  \\\n",
      "0  298210.885731  1.444721e+06  398305.272225  3.228119e+06  862704.04209   \n",
      "\n",
      "   rssi_mean  rssi_median  rssi_max   rssi_min  network_speed  \n",
      "0 -57.786995   -58.599916 -33.71203 -80.987907     874.734559  \n"
     ]
    }
   ],
   "source": [
    "# calculate the averages of each column\n",
    "# exclude the following columns ['acct_id', 'city', 'state']\n",
    "# special case for 'network_speed' (convert to numeric first)\n",
    "# if column is numeric, calculate the average\n",
    "# otherwise count all values that are true and divide by the total number of rows\n",
    "\n",
    "exclude_cols = ['acct_id', 'city', 'state']\n",
    "avgs = {}\n",
    "temp_df = customer_df.copy().drop(exclude_cols, axis=1)\n",
    "for col in temp_df.columns:\n",
    "    if col == 'network_speed':\n",
    "        numeric_col = pd.to_numeric(temp_df[col].str.replace(\"M\", \"\", regex=False), errors=\"coerce\")\n",
    "        avgs[col] = numeric_col.mean()\n",
    "    elif pd.api.types.is_numeric_dtype(temp_df[col]):\n",
    "        avgs[col] = temp_df[col].mean()\n",
    "    else:\n",
    "        pass\n",
    "\n",
    "avgs_df = pd.DataFrame(avgs, index=[0])\n",
    "print(avgs_df)\n",
    "avgs_df.to_csv(\"data/avg_values.csv\", index=False)"
   ]
  },
  {
   "cell_type": "code",
   "execution_count": null,
   "metadata": {},
   "outputs": [],
   "source": [
    "from geopy.geocoders import Nominatim\n",
    "\n",
    "def get_lat_lon(city, state):\n",
    "    geolocator = Nominatim(user_agent=\"geoapiExercises\")\n",
    "    location = geolocator.geocode(f\"{city}, {state}\")\n",
    "    if location is None:\n",
    "        return None, None\n",
    "    return location.latitude, location.longitude"
   ]
  },
  {
   "cell_type": "code",
   "execution_count": 78,
   "metadata": {},
   "outputs": [
    {
     "name": "stderr",
     "output_type": "stream",
     "text": [
      "/tmp/ipykernel_63422/1346210460.py:23: FutureWarning: The behavior of DataFrame concatenation with empty or all-NA entries is deprecated. In a future version, this will no longer exclude empty or all-NA columns when determining the result dtypes. To retain the old behavior, exclude the relevant entries before the concat operation.\n",
      "  new_df = pd.concat([new_df, temp_df], ignore_index=True)\n"
     ]
    },
    {
     "name": "stdout",
     "output_type": "stream",
     "text": [
      "Could not find location data for BERKELEY SPGS, WV\n",
      "Could not find location data for BERKLEY SPRINGS, WV\n",
      "Could not find location data for CONYNGHAM BORO, PA\n",
      "Could not find location data for HARVEYS LAKE BORO, PA\n",
      "Could not find location data for HUNTINTON, WV\n",
      "Could not find location data for JPV, FL\n",
      "Could not find location data for LE ROY, WV\n",
      "Could not find location data for LKSID MARBLHD, OH\n",
      "Could not find location data for LYKENS BORO, PA\n",
      "Could not find location data for NCTY, FL\n",
      "Could not find location data for NEW HOLLAND BOROUGH, PA\n",
      "Could not find location data for NEW PHILA, OH\n",
      "Could not find location data for NICHOLSON BORO, PA\n",
      "Could not find location data for OLD RIVER-WINFRE, TX\n",
      "Could not find location data for PALOS VERDES PENINSU, CA\n",
      "Could not find location data for RIO GRANDE CY, TX\n",
      "Could not find location data for SCTY, FL\n",
      "Could not find location data for STAFFORD SPGS, CT\n",
      "Could not find location data for VERNON ROCKVL, CT\n",
      "Could not find location data for WILMINGTON-CNTY RTE 83, NY\n"
     ]
    }
   ],
   "source": [
    "\n",
    "# preprocess the data (get longitude, latitude, radius, and data)\n",
    "grouped_df = customer_df.groupby([\"city\", \"state\"])\n",
    "# create new df with latitude, longitude, radius, and color\n",
    "new_df = pd.DataFrame(columns=[\"latitude\", \"longitude\", 'extenders', 'wireless_clients_count', 'wired_clients_count', 'rx_avg_bps', 'tx_avg_bps', 'rx_p95_bps', 'tx_p95_bps', 'rx_max_bps','tx_max_bps', 'rssi_mean', 'rssi_median', 'rssi_max', 'rssi_min', 'network_speed'])\n",
    "for (city, state), group in grouped_df:\n",
    "    location_data = get_lat_lon(city, state)\n",
    "    if (location_data[0] is None) or (location_data[1] is None):\n",
    "        print(f\"Could not find location data for {city}, {state}\")\n",
    "        continue\n",
    "    avg_data = {}\n",
    "    for col in group.columns:\n",
    "        if col == 'network_speed':\n",
    "            numeric_col = pd.to_numeric(group[col].str.replace(\"M\", \"\", regex=False), errors=\"coerce\")\n",
    "            avg_data[col] = numeric_col/avgs_df[col].values[0]*500\n",
    "        elif pd.api.types.is_numeric_dtype(group[col]):\n",
    "            avg_data[col] = group[col].mean()/avgs_df[col].values[0]*500\n",
    "        else:\n",
    "            pass\n",
    "    temp_df = pd.DataFrame(avg_data, index=[0])\n",
    "    temp_df['latitude'] = location_data[0]\n",
    "    temp_df['longitude'] = location_data[1]\n",
    "    # Concatenate the temporary DataFrame with the new DataFrame\n",
    "    new_df = pd.concat([new_df, temp_df], ignore_index=True)\n",
    "new_df.head()\n",
    "new_df.to_csv(\"data/preprocessed_customers.csv\", index=False)"
   ]
  },
  {
   "cell_type": "code",
   "execution_count": null,
   "metadata": {},
   "outputs": [],
   "source": []
  },
  {
   "cell_type": "code",
   "execution_count": null,
   "metadata": {},
   "outputs": [],
   "source": []
  },
  {
   "cell_type": "code",
   "execution_count": null,
   "metadata": {},
   "outputs": [],
   "source": []
  }
 ],
 "metadata": {
  "kernelspec": {
   "display_name": "Python 3",
   "language": "python",
   "name": "python3"
  },
  "language_info": {
   "codemirror_mode": {
    "name": "ipython",
    "version": 3
   },
   "file_extension": ".py",
   "mimetype": "text/x-python",
   "name": "python",
   "nbconvert_exporter": "python",
   "pygments_lexer": "ipython3",
   "version": "3.12.7"
  }
 },
 "nbformat": 4,
 "nbformat_minor": 2
}
